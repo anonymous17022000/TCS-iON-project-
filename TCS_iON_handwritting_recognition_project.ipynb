{
  "nbformat": 4,
  "nbformat_minor": 0,
  "metadata": {
    "colab": {
      "name": "TCS-iON - handwritting-recognition-project.ipynb",
      "provenance": []
    },
    "kernelspec": {
      "name": "python3",
      "display_name": "Python 3"
    }
  },
  "cells": [
    {
      "cell_type": "code",
      "metadata": {
        "id": "ighFVOAsEKTI",
        "colab_type": "code",
        "colab": {}
      },
      "source": [
        "from __future__ import division\n",
        "import numpy as np\n",
        "import pandas as pd\n",
        "import os\n",
        "import glob\n",
        "import matplotlib.image as mpimg\n",
        "import matplotlib.pyplot as plt\n",
        "from sklearn.preprocessing import LabelEncoder\n",
        "from keras.utils import to_categorical\n",
        "d={}\n",
        "with open('/content/drive/My Drive/TCS1/forms.txt') as f:\n",
        "  for line in f:\n",
        "    key=line.split(' ')[0]\n",
        "    write=line.split(' ')[1]\n",
        "    d[key]=write\n",
        "from collections import Counter\n",
        "top_7=[]\n",
        "num_write= Counter(d.values())\n",
        "#Collecting the most common 7 writers \n",
        "for key,value in num_write.most_common(7):\n",
        "  top_7.append(key)\n",
        "select_forms = {}\n",
        "for k,v in d.items():\n",
        "    if v in top_7:\n",
        "        select_forms[k]=v\n",
        "import pickle\n",
        "#id_list.pkl contains the list of all file paths of every image present in sentences folder\n",
        "with open('id_list.pkl','rb') as f:\n",
        "  id_list=pickle.load(f)\n",
        "temp=[]\n",
        "target=[]\n",
        "for filename in sorted(id_list):\n",
        "  form=filename.split('/')[-2]\n",
        "  for key in select_forms:\n",
        "    if key==form:\n",
        "      target.append(str(select_forms[form]))\n",
        "      temp.append(filename)\n",
        "images_file=np.asarray(temp)\n",
        "target_array=np.asarray(target)"
      ],
      "execution_count": null,
      "outputs": []
    },
    {
      "cell_type": "markdown",
      "metadata": {
        "id": "WkU3I2h7RomC",
        "colab_type": "text"
      },
      "source": [
        "image_files contains the filepath of the images\n",
        "\n",
        "target_array contains the writer ids of 7 people which we need to predict"
      ]
    },
    {
      "cell_type": "code",
      "metadata": {
        "id": "43AjjgOndMnR",
        "colab_type": "code",
        "colab": {
          "base_uri": "https://localhost:8080/",
          "height": 33
        },
        "outputId": "abda14d6-bccb-4a4b-e712-e10b0bfa0aae"
      },
      "source": [
        "images_file.shape"
      ],
      "execution_count": null,
      "outputs": [
        {
          "output_type": "execute_result",
          "data": {
            "text/plain": [
              "(1333,)"
            ]
          },
          "metadata": {
            "tags": []
          },
          "execution_count": 9
        }
      ]
    },
    {
      "cell_type": "code",
      "metadata": {
        "id": "5U23XR0qEK-Y",
        "colab_type": "code",
        "colab": {
          "base_uri": "https://localhost:8080/",
          "height": 33
        },
        "outputId": "02036b21-5225-419a-8205-a44063156b13"
      },
      "source": [
        "target_array.shape"
      ],
      "execution_count": null,
      "outputs": [
        {
          "output_type": "execute_result",
          "data": {
            "text/plain": [
              "(1333,)"
            ]
          },
          "metadata": {
            "tags": []
          },
          "execution_count": 7
        }
      ]
    },
    {
      "cell_type": "code",
      "metadata": {
        "id": "fczFZtIBJe8h",
        "colab_type": "code",
        "colab": {
          "base_uri": "https://localhost:8080/",
          "height": 966
        },
        "outputId": "98fc6877-7496-4003-9a89-def8ad27e748"
      },
      "source": [
        "#encoding the target array \n",
        "encoder=LabelEncoder()\n",
        "encoder.fit(target_array)\n",
        "encoded_Y=encoder.transform(target_array)\n",
        "#Splitting the dataset into training,testing and validation data\n",
        "from sklearn.model_selection import train_test_split\n",
        "train_files,rem_files,train_targets,rem_targets=train_test_split(images_file,encoded_Y,train_size=0.66,random_state=52,shuffle=True)\n",
        "validation_files,test_files,validation_targets,test_targets=train_test_split(rem_files,rem_targets,train_size=0.5,random_state=22,shuffle=True)\n",
        "from PIL import Image\n",
        "from random import sample \n",
        "batch_size=16\n",
        "num_classes=20\n",
        "#generating random crops of the sentence image to generate the features from images.\n",
        "def generate_data(samples,target_files,batch_size=batch_size,factor=0.1):\n",
        "  l2=[]\n",
        "  num_samples=len(samples)\n",
        "  from sklearn.utils import shuffle\n",
        "  while 1:\n",
        "      for j in range(0,num_samples,batch_size):\n",
        "        batch_samples=samples[j:j+batch_size]\n",
        "        batch_targets=target_files[j:j+batch_size]\n",
        "        images=[]\n",
        "        targets=[]\n",
        "        for i in range(len(batch_samples)):\n",
        "          batch_sample=batch_samples[i]\n",
        "          batch_target=batch_targets[i]\n",
        "          im=Image.open(batch_sample)\n",
        "          cur_width=im.size[0]\n",
        "          cur_height=im.size[1]\n",
        "          height_frac=113/cur_height\n",
        "          new_width=int(cur_width*height_frac)\n",
        "          size=new_width,113\n",
        "          # Resize so height=113 while keeping aspect ratio\n",
        "          im_resize=im.resize((size),Image.ANTIALIAS)\n",
        "          now_width=im_resize.size[0]\n",
        "          now_height=im_resize.size[1]\n",
        "          # Generate crops of size 113x113 from this resized image and keep random 10% of crops\n",
        "          avail_x_points=list(range(0,now_width-113))\n",
        "          pick_num=int(len(avail_x_points)*factor)\n",
        "          random_startx=sample(avail_x_points,pick_num)\n",
        "          \n",
        "          for start in random_startx:\n",
        "            imcrop=im_resize.crop((start,0,start+113,113))\n",
        "            images.append(np.asarray(imcrop))\n",
        "            targets.append(batch_target)  \n",
        "       \n",
        "        X_train=np.array(images)\n",
        "            \n",
        "        y_train=np.array(targets)\n",
        "        X_train=X_train.reshape(X_train.shape[0],113,113,1)\n",
        "        X_train=X_train.astype('float32')\n",
        "        X_train/=255 \n",
        "        y_train=to_categorical(y_train,num_classes)\n",
        "        return shuffle(X_train,y_train)       \n",
        "train_data=generate_data(train_files,train_targets,batch_size=batch_size,factor=0.3)\n",
        "test_data=generate_data(test_files,test_targets,batch_size=batch_size,factor=0.3)\n",
        "validation_data=generate_data(validation_files,validation_targets,batch_size=batch_size,factor=0.1)\n",
        "from keras.models import Sequential\n",
        "from keras.layers import Dense,Dropout,Lambda,ELU,Activation,BatchNormalization,Flatten\n",
        "from keras.layers.convolutional import Convolution2D,Cropping2D,MaxPooling2D,ZeroPadding2D\n",
        "from keras.optimizers import SGD,Adam,RMSprop\n",
        "from keras.preprocessing.image import ImageDataGenerator\n",
        "import tensorflow as tf\n",
        "def resize(image):\n",
        "  return tf.image.resize(image,[56,56])\n",
        "row,col,ch=113,113,1\n",
        "model=Sequential()\n",
        "model.add(ZeroPadding2D((1,1),input_shape=(row,col,ch)))\n",
        "#resize image to 56x56\n",
        "model.add(Lambda(resize))\n",
        "\n",
        "model.add(Convolution2D(filters=32,kernel_size=(5,5),strides=(2,2),padding='same',name='conv1'))#96\n",
        "model.add(Activation('relu'))\n",
        "model.add(MaxPooling2D(pool_size=(2,2),strides=(2,2),name='pool1'))\n",
        "\n",
        "model.add(Convolution2D(filters=64,kernel_size=(3,3),strides=(1,1),padding='same',name='conv2'))#256\n",
        "model.add(Activation('relu'))\n",
        "model.add(MaxPooling2D(pool_size=(2,2),strides=(2,2),name='pool2'))\n",
        "\n",
        "model.add(Convolution2D(filters=128,kernel_size=(3,3),strides=(1,1),padding='same',name='conv3'))#256\n",
        "model.add(Activation('relu'))\n",
        "model.add(MaxPooling2D(pool_size=(2,2),strides=(2,2),name='pool3'))\n",
        "\n",
        "model.add(Flatten())\n",
        "model.add(Dropout(0.5))\n",
        "model.add(Dropout(0.5))\n",
        "model.add(Dense(512,name='dense1'))#1024\n",
        "model.add(Activation('relu'))\n",
        "model.add(Dropout(0.5))\n",
        "model.add(Dropout(0.5))\n",
        "model.add(Dense(256,name='dense2'))#1024\n",
        "model.add(Activation('relu'))\n",
        "model.add(Dropout(0.5))\n",
        "model.add(Dropout(0.5))\n",
        "\n",
        "model.add(Dense(num_classes,name='output'))\n",
        "model.add(Activation('softmax'))\n",
        "\n",
        "model.compile(loss='categorical_crossentropy',optimizer=Adam(),metrics=['accuracy'])\n",
        "print(model.summary())\n"
      ],
      "execution_count": null,
      "outputs": [
        {
          "output_type": "stream",
          "text": [
            "Model: \"sequential\"\n",
            "_________________________________________________________________\n",
            "Layer (type)                 Output Shape              Param #   \n",
            "=================================================================\n",
            "zero_padding2d (ZeroPadding2 (None, 115, 115, 1)       0         \n",
            "_________________________________________________________________\n",
            "lambda (Lambda)              (None, 56, 56, 1)         0         \n",
            "_________________________________________________________________\n",
            "conv1 (Conv2D)               (None, 28, 28, 32)        832       \n",
            "_________________________________________________________________\n",
            "activation (Activation)      (None, 28, 28, 32)        0         \n",
            "_________________________________________________________________\n",
            "pool1 (MaxPooling2D)         (None, 14, 14, 32)        0         \n",
            "_________________________________________________________________\n",
            "conv2 (Conv2D)               (None, 14, 14, 64)        18496     \n",
            "_________________________________________________________________\n",
            "activation_1 (Activation)    (None, 14, 14, 64)        0         \n",
            "_________________________________________________________________\n",
            "pool2 (MaxPooling2D)         (None, 7, 7, 64)          0         \n",
            "_________________________________________________________________\n",
            "conv3 (Conv2D)               (None, 7, 7, 128)         73856     \n",
            "_________________________________________________________________\n",
            "activation_2 (Activation)    (None, 7, 7, 128)         0         \n",
            "_________________________________________________________________\n",
            "pool3 (MaxPooling2D)         (None, 3, 3, 128)         0         \n",
            "_________________________________________________________________\n",
            "flatten (Flatten)            (None, 1152)              0         \n",
            "_________________________________________________________________\n",
            "dropout (Dropout)            (None, 1152)              0         \n",
            "_________________________________________________________________\n",
            "dropout_1 (Dropout)          (None, 1152)              0         \n",
            "_________________________________________________________________\n",
            "dense1 (Dense)               (None, 512)               590336    \n",
            "_________________________________________________________________\n",
            "activation_3 (Activation)    (None, 512)               0         \n",
            "_________________________________________________________________\n",
            "dropout_2 (Dropout)          (None, 512)               0         \n",
            "_________________________________________________________________\n",
            "dropout_3 (Dropout)          (None, 512)               0         \n",
            "_________________________________________________________________\n",
            "dense2 (Dense)               (None, 256)               131328    \n",
            "_________________________________________________________________\n",
            "activation_4 (Activation)    (None, 256)               0         \n",
            "_________________________________________________________________\n",
            "dropout_4 (Dropout)          (None, 256)               0         \n",
            "_________________________________________________________________\n",
            "dropout_5 (Dropout)          (None, 256)               0         \n",
            "_________________________________________________________________\n",
            "output (Dense)               (None, 20)                5140      \n",
            "_________________________________________________________________\n",
            "activation_5 (Activation)    (None, 20)                0         \n",
            "=================================================================\n",
            "Total params: 819,988\n",
            "Trainable params: 819,988\n",
            "Non-trainable params: 0\n",
            "_________________________________________________________________\n",
            "None\n"
          ],
          "name": "stdout"
        }
      ]
    },
    {
      "cell_type": "code",
      "metadata": {
        "id": "i2eLagHEbbmC",
        "colab_type": "code",
        "colab": {
          "base_uri": "https://localhost:8080/",
          "height": 86
        },
        "outputId": "e5bb7d1b-c7ea-4eae-9d76-fd004b1322a2"
      },
      "source": [
        "tf.config.experimental_run_functions_eagerly(True)"
      ],
      "execution_count": null,
      "outputs": [
        {
          "output_type": "stream",
          "text": [
            "WARNING:tensorflow:From <ipython-input-10-bdb3352f611a>:1: experimental_run_functions_eagerly (from tensorflow.python.eager.def_function) is deprecated and will be removed in a future version.\n",
            "Instructions for updating:\n",
            "Use `tf.config.run_functions_eagerly` instead of the experimental version.\n"
          ],
          "name": "stdout"
        }
      ]
    },
    {
      "cell_type": "code",
      "metadata": {
        "id": "_ViTldfDFyOD",
        "colab_type": "code",
        "colab": {
          "base_uri": "https://localhost:8080/",
          "height": 67
        },
        "outputId": "1ea03358-1aaf-4c59-fe62-1fc6e414462c"
      },
      "source": [
        "#running the model\n",
        "'''\n",
        "from keras.callbacks import ModelCheckpoint\n",
        "filepath='check10-{epoch:02d}-{accuracy:.4f}.hdf5'\n",
        "checkpoint=ModelCheckpoint(filepath=filepath,monitor='val_accuracy',verbose=1,save_best_only=False)\n",
        "callbacks_list=[checkpoint]\n",
        "history_obj=model.fit(train_data[0],train_data[1],batch_size=16,epochs=10,verbose=1,callbacks=callbacks_list)\n",
        "\n",
        "'''"
      ],
      "execution_count": null,
      "outputs": [
        {
          "output_type": "execute_result",
          "data": {
            "application/vnd.google.colaboratory.intrinsic+json": {
              "type": "string"
            },
            "text/plain": [
              "\"\\nnb_epochs=2\\nsamples_per_epoch=233\\nnb_val_samples=66\\nfrom keras.callbacks import ModelCheckpoint\\nfilepath='check10-{epoch:02d}-{accuracy:.4f}.hdf5'\\ncheckpoint=ModelCheckpoint(filepath=filepath,monitor='val_accuracy',verbose=1,save_best_only=False)\\ncallbacks_list=[checkpoint]\\nhistory_obj=model.fit(train_data[0],train_data[1],batch_size=16,epochs=10,verbose=1,callbacks=callbacks_list)\\n\\n\""
            ]
          },
          "metadata": {
            "tags": []
          },
          "execution_count": 84
        }
      ]
    },
    {
      "cell_type": "code",
      "metadata": {
        "id": "b3rJlo7Db6lv",
        "colab_type": "code",
        "colab": {}
      },
      "source": [
        "#load the model \n",
        "model.load_weights('check10-10-0.9307.hdf5')\n"
      ],
      "execution_count": null,
      "outputs": []
    },
    {
      "cell_type": "code",
      "metadata": {
        "id": "gADvCIkRXld-",
        "colab_type": "code",
        "colab": {}
      },
      "source": [
        "#generating random crops of images in test data.\n",
        "images = []\n",
        "l4=[]\n",
        "lf=[]\n",
        "c=0\n",
        "for filename in test_files[:227]:\n",
        "    lf.append(filename)\n",
        "\n",
        "    im = Image.open(filename)\n",
        "    cur_width = im.size[0]\n",
        "    cur_height = im.size[1]\n",
        "    height_fac = 113 / cur_height\n",
        "\n",
        "    new_width = int(cur_width * height_fac)\n",
        "    size = new_width, 113\n",
        "\n",
        "    imresize = im.resize((size), Image.ANTIALIAS) \n",
        "    now_width = imresize.size[0]\n",
        "    now_height = imresize.size[1]\n",
        "   \n",
        "    avail_x_points = list(range(0, now_width - 113 ))\n",
        "\n",
        "    \n",
        "    factor = 0.1\n",
        "    pick_num = int(len(avail_x_points)*factor)\n",
        "    \n",
        "    random_startx = sample(avail_x_points,  pick_num)\n",
        "\n",
        "    for start in random_startx:\n",
        "        imcrop = imresize.crop((start, 0, start+113, 113))\n",
        "        images.append(np.asarray(imcrop))\n",
        "        l4.append(test_targets[c])\n",
        "    X_test = np.array(images)\n",
        "    X_test = X_test.reshape(X_test.shape[0], 113, 113, 1)\n",
        "    \n",
        "    X_test = X_test.astype('float32')\n",
        "    X_test /= 255\n",
        "    X_test\n",
        "    c+=1"
      ],
      "execution_count": null,
      "outputs": []
    },
    {
      "cell_type": "code",
      "metadata": {
        "id": "vQybYIpB7oRe",
        "colab_type": "code",
        "colab": {
          "base_uri": "https://localhost:8080/",
          "height": 83
        },
        "outputId": "316b598e-dfd5-45ca-d804-eb32ce345822"
      },
      "source": [
        "#accuracy of 86.46% for test data.\n",
        "predictions = model.predict(X_test, verbose =1)\n",
        "\n",
        "print(predictions.shape)\n",
        "predicted_writer = []\n",
        "for pred in predictions:\n",
        "    predicted_writer.append(np.argmax(pred))\n",
        "print(len(predicted_writer))\n",
        "s=0\n",
        "for i in range(len(l4)):\n",
        "  if(l4[i]==predicted_writer[i]):\n",
        "    s+=1\n",
        "accuracy=s/len(l4)\n",
        "print(accuracy)\n"
      ],
      "execution_count": null,
      "outputs": [
        {
          "output_type": "stream",
          "text": [
            "1194/1194 [==============================] - 24s 20ms/step\n",
            "(38180, 20)\n",
            "38180\n",
            "0.864641173389209\n"
          ],
          "name": "stdout"
        }
      ]
    },
    {
      "cell_type": "code",
      "metadata": {
        "id": "xucR54CEcXpk",
        "colab_type": "code",
        "colab": {
          "base_uri": "https://localhost:8080/",
          "height": 523
        },
        "outputId": "3bb64dd8-8020-437f-9f23-a7de993dc50d"
      },
      "source": [
        "sample_test=test_files[:]\n",
        "import random\n",
        "for i in range(5):\n",
        "    random_file=random.choice(sample_test)\n",
        "    \n",
        "    target_file=[]\n",
        "    images_rand_file=[]\n",
        "    im = Image.open(random_file)\n",
        "    cur_width = im.size[0]\n",
        "    cur_height = im.size[1]\n",
        "    height_fac = 113 / cur_height\n",
        "\n",
        "    new_width = int(cur_width * height_fac)\n",
        "    size = new_width, 113\n",
        "\n",
        "    imresize = im.resize((size), Image.ANTIALIAS) \n",
        "    now_width = imresize.size[0]\n",
        "    now_height = imresize.size[1]\n",
        "       \n",
        "\n",
        "    avail_x_points = list(range(0, now_width - 113 ))\n",
        "\n",
        "        \n",
        "    factor = 0.1\n",
        "    pick_num = int(len(avail_x_points)*factor)\n",
        "        \n",
        "    random_startx = sample(avail_x_points,  pick_num)\n",
        "\n",
        "    for start in random_startx:\n",
        "        imcrop = imresize.crop((start, 0, start+113, 113))\n",
        "        images_rand_file.append(np.asarray(imcrop))\n",
        "        target_file.append(test_targets[51])\n",
        "    X_test1 = np.array(images_rand_file)\n",
        "    X_test1 = X_test1.reshape(X_test1.shape[0], 113, 113, 1)\n",
        "    X_test1 = X_test1.astype('float32')\n",
        "    X_test1 /= 255\n",
        "    predictions1 = model.predict(X_test1, verbose =1)\n",
        "    predicted_writer1 = []\n",
        "    for pred in predictions1:\n",
        "        predicted_writer1.append(np.argmax(pred))\n",
        "    l6=[]\n",
        "    if list(set(predicted_writer1))[0]==list(set(l4))[0]:\n",
        "      l6.append(random_file)\n",
        "    l5=[]\n",
        "    if l6 !=[]:\n",
        "      for i in select_forms:\n",
        "        if select_forms[i]==top_7[list(set(predicted_writer1))[0]]:\n",
        "          l5.append(i)\n",
        "    else:\n",
        "      print(\"wrong output\")\n",
        "    if l6!=[]:\n",
        "       s1=random_file.split('/')[-2]\n",
        "       d1={}\n",
        "       with open('/content/drive/My Drive/TCS1/sentences.txt') as f:\n",
        "          for line in f:\n",
        "             key=line.split(' ')[0]\n",
        "             write=line.split(' ')[9]\n",
        "             d1[key]=write\n",
        "       if s1 in l5:\n",
        "             img=mpimg.imread(random_file)\n",
        "             plt.figure(figsize=(10,10))\n",
        "             plt.imshow(img,cmap='gray')\n",
        "    \n",
        "             final_pic=random_file.split('/')[-1].split('.')[0]\n",
        "             print(d1[final_pic])\n",
        "       \n",
        "       \n",
        "       \n",
        "    \n",
        "\n",
        "   \n"
      ],
      "execution_count": null,
      "outputs": [
        {
          "output_type": "stream",
          "text": [
            "6/6 [==============================] - 0s 15ms/step\n",
            "The|Adenauer|Government\n",
            "\n",
            "7/7 [==============================] - 0s 17ms/step\n",
            "review|the|United|Nations|Secretariat|;\n",
            "\n",
            "3/3 [==============================] - 0s 9ms/step\n",
            "He|claimed\n",
            "\n",
            "9/9 [==============================] - 0s 15ms/step\n",
            "10/10 [==============================] - 0s 16ms/step\n",
            "various|rocket|stages|had|already|been\n",
            "\n"
          ],
          "name": "stdout"
        },
        {
          "output_type": "display_data",
          "data": {
            "image/png": "[encoded data removed]",
            "text/plain": [
              "<Figure size 720x720 with 1 Axes>"
            ]
          },
          "metadata": {
            "tags": [],
            "needs_background": "light"
          }
        },
        {
          "output_type": "display_data",
          "data": {
            "image/png": "[encoded data removed]",
            "text/plain": [
              "<Figure size 720x720 with 1 Axes>"
            ]
          },
          "metadata": {
            "tags": [],
            "needs_background": "light"
          }
        },
        {
          "output_type": "display_data",
          "data": {
            "image/png": "[encoded data removed]",
            "text/plain": [
              "<Figure size 720x720 with 1 Axes>"
            ]
          },
          "metadata": {
            "tags": [],
            "needs_background": "light"
          }
        },
        {
          "output_type": "display_data",
          "data": {
            "image/png": "[encoded data removed]",
            "text/plain": [
              "<Figure size 720x720 with 1 Axes>"
            ]
          },
          "metadata": {
            "tags": [],
            "needs_background": "light"
          }
        }
      ]
    }
  ]
}